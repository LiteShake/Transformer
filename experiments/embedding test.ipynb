{
 "cells": [
  {
   "cell_type": "code",
   "execution_count": 1,
   "metadata": {},
   "outputs": [],
   "source": [
    "import torch\n",
    "import torch.nn as nn"
   ]
  },
  {
   "cell_type": "code",
   "execution_count": 2,
   "metadata": {},
   "outputs": [],
   "source": [
    "embd = nn.Embedding(32, 64)"
   ]
  },
  {
   "cell_type": "code",
   "execution_count": 4,
   "metadata": {},
   "outputs": [
    {
     "ename": "ValueError",
     "evalue": "too many dimensions 'str'",
     "output_type": "error",
     "traceback": [
      "\u001b[1;31m---------------------------------------------------------------------------\u001b[0m",
      "\u001b[1;31mValueError\u001b[0m                                Traceback (most recent call last)",
      "Cell \u001b[1;32mIn[4], line 1\u001b[0m\n\u001b[1;32m----> 1\u001b[0m embd(\u001b[43mtorch\u001b[49m\u001b[38;5;241;43m.\u001b[39;49m\u001b[43mTensor\u001b[49m\u001b[43m(\u001b[49m\u001b[43m[\u001b[49m\u001b[38;5;124;43m\"\u001b[39;49m\u001b[38;5;124;43mhallo\u001b[39;49m\u001b[38;5;124;43m\"\u001b[39;49m\u001b[43m,\u001b[49m\u001b[43m \u001b[49m\u001b[38;5;124;43m\"\u001b[39;49m\u001b[38;5;124;43mhow\u001b[39;49m\u001b[38;5;124;43m\"\u001b[39;49m\u001b[43m,\u001b[49m\u001b[43m \u001b[49m\u001b[38;5;124;43m\"\u001b[39;49m\u001b[38;5;124;43mare\u001b[39;49m\u001b[38;5;124;43m\"\u001b[39;49m\u001b[43m,\u001b[49m\u001b[43m \u001b[49m\u001b[38;5;124;43m\"\u001b[39;49m\u001b[38;5;124;43myou\u001b[39;49m\u001b[38;5;124;43m\"\u001b[39;49m\u001b[43m,\u001b[49m\u001b[43m \u001b[49m\u001b[38;5;124;43m\"\u001b[39;49m\u001b[38;5;124;43mdoing\u001b[39;49m\u001b[38;5;124;43m\"\u001b[39;49m\u001b[43m]\u001b[49m\u001b[43m)\u001b[49m)\n",
      "\u001b[1;31mValueError\u001b[0m: too many dimensions 'str'"
     ]
    }
   ],
   "source": [
    "embd(torch.Tensor([\"hallo\", \"how\", \"are\", \"you\", \"doing\"]))"
   ]
  },
  {
   "cell_type": "code",
   "execution_count": 5,
   "metadata": {},
   "outputs": [],
   "source": [
    "from collections import Counter\n",
    "\n",
    "# This is going to be the dummy sentence :\n",
    "sentences = \"this is the second example showing for the article at gfg. and doing this is actually really fun\"\n",
    "\n",
    "words = sentences.split(' ')\n",
    "\n",
    "# create a dictionary\n",
    "vocab = Counter(words) \n",
    "vocab = sorted(vocab, key=vocab.get, reverse=True)\n",
    "vocab_size = len(vocab)\n",
    "\n",
    "# create a word to index dictionary from our Vocab dictionary\n",
    "word2idx = {word: ind for ind, word in enumerate(vocab)} \n",
    "\n",
    "encoded_sentences = [word2idx[word] for word in words]\n",
    "\n",
    "# assign a value to your embedding_dim\n",
    "e_dim = 5\n"
   ]
  },
  {
   "cell_type": "code",
   "execution_count": 6,
   "metadata": {},
   "outputs": [
    {
     "data": {
      "text/plain": [
       "['this',\n",
       " 'is',\n",
       " 'the',\n",
       " 'second',\n",
       " 'example',\n",
       " 'showing',\n",
       " 'for',\n",
       " 'article',\n",
       " 'at',\n",
       " 'gfg.',\n",
       " 'and',\n",
       " 'doing',\n",
       " 'actually',\n",
       " 'really',\n",
       " 'fun']"
      ]
     },
     "execution_count": 6,
     "metadata": {},
     "output_type": "execute_result"
    }
   ],
   "source": [
    "vocab"
   ]
  },
  {
   "cell_type": "code",
   "execution_count": 7,
   "metadata": {},
   "outputs": [
    {
     "data": {
      "text/plain": [
       "{'this': 0,\n",
       " 'is': 1,\n",
       " 'the': 2,\n",
       " 'second': 3,\n",
       " 'example': 4,\n",
       " 'showing': 5,\n",
       " 'for': 6,\n",
       " 'article': 7,\n",
       " 'at': 8,\n",
       " 'gfg.': 9,\n",
       " 'and': 10,\n",
       " 'doing': 11,\n",
       " 'actually': 12,\n",
       " 'really': 13,\n",
       " 'fun': 14}"
      ]
     },
     "execution_count": 7,
     "metadata": {},
     "output_type": "execute_result"
    }
   ],
   "source": [
    "word2idx"
   ]
  },
  {
   "cell_type": "code",
   "execution_count": 9,
   "metadata": {},
   "outputs": [
    {
     "data": {
      "text/plain": [
       "[0, 1, 2, 3, 4, 5, 6, 2, 7, 8, 9, 10, 11, 0, 1, 12, 13, 14]"
      ]
     },
     "execution_count": 9,
     "metadata": {},
     "output_type": "execute_result"
    }
   ],
   "source": [
    "encoded_sentences"
   ]
  },
  {
   "cell_type": "code",
   "execution_count": 10,
   "metadata": {},
   "outputs": [
    {
     "name": "stdout",
     "output_type": "stream",
     "text": [
      "tensor([[-0.1922,  1.0909, -1.7027,  0.1087,  0.8440],\n",
      "        [ 0.2610,  0.0345,  0.8115, -0.9252, -0.3548],\n",
      "        [-0.5138,  0.2903, -0.6830,  0.1736, -0.2782],\n",
      "        [ 0.0000,  0.0000,  0.0000,  0.0000,  0.0000],\n",
      "        [ 2.5623,  0.7436, -1.7156,  3.0872,  0.9964],\n",
      "        [ 0.6813,  1.5824, -0.5282,  0.1214, -1.5685],\n",
      "        [ 1.0018, -0.8184,  0.2733, -1.2046, -1.4825],\n",
      "        [-0.5138,  0.2903, -0.6830,  0.1736, -0.2782],\n",
      "        [ 1.4551, -0.8993, -0.1460,  0.7013,  0.6261],\n",
      "        [-1.4468, -0.3728,  0.6052,  0.0228, -0.1643],\n",
      "        [ 0.3098, -1.0965,  0.5457,  1.7636,  0.3892],\n",
      "        [ 0.7551, -1.5755, -1.0337,  1.5745,  1.4873],\n",
      "        [-1.1303,  0.3587, -0.3172,  1.2246,  1.8485],\n",
      "        [-0.1922,  1.0909, -1.7027,  0.1087,  0.8440],\n",
      "        [ 0.2610,  0.0345,  0.8115, -0.9252, -0.3548],\n",
      "        [-0.0351,  0.2232,  0.8365,  0.3059, -0.7151],\n",
      "        [-1.1868,  0.4926, -0.5509, -0.5529, -0.4572],\n",
      "        [ 1.8284, -0.7269, -0.2173,  0.4858, -0.4009]],\n",
      "       grad_fn=<EmbeddingBackward0>)\n"
     ]
    }
   ],
   "source": [
    "# initialise an Embedding layer from Torch\n",
    "emb = nn.Embedding(vocab_size, e_dim, padding_idx = 3)\n",
    "word_vectors = emb(torch.LongTensor(encoded_sentences))\n",
    "\n",
    "#print the word_vectors\n",
    "print(word_vectors)\n"
   ]
  },
  {
   "cell_type": "code",
   "execution_count": null,
   "metadata": {},
   "outputs": [],
   "source": []
  }
 ],
 "metadata": {
  "kernelspec": {
   "display_name": "Python 3",
   "language": "python",
   "name": "python3"
  },
  "language_info": {
   "codemirror_mode": {
    "name": "ipython",
    "version": 3
   },
   "file_extension": ".py",
   "mimetype": "text/x-python",
   "name": "python",
   "nbconvert_exporter": "python",
   "pygments_lexer": "ipython3",
   "version": "3.11.7"
  }
 },
 "nbformat": 4,
 "nbformat_minor": 2
}
